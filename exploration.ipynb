{
 "cells": [
  {
   "cell_type": "code",
   "execution_count": 1,
   "metadata": {},
   "outputs": [],
   "source": [
    "import pandas as pd\n",
    "from matplotlib import pyplot as plt\n",
    "import seaborn as sns\n",
    "from data_loader import data_loader, compare_race_ethnicity_groups"
   ]
  },
  {
   "cell_type": "code",
   "execution_count": 2,
   "metadata": {},
   "outputs": [
    {
     "name": "stdout",
     "output_type": "stream",
     "text": [
      "Loading data...\n",
      "processed_data.csv exists. Loading data from file.\n"
     ]
    }
   ],
   "source": [
    "# read in the data \n",
    "df = data_loader()"
   ]
  },
  {
   "attachments": {},
   "cell_type": "markdown",
   "metadata": {},
   "source": [
    "Action Taken:\n",
    " 1. Loan originated\n",
    " 2. Application approved but not accepted\n",
    " 3. Application denied by financial institution\n",
    " 4. Application withdrawn by applicant\n",
    " 5. File closed for incompleteness\n",
    " 6. Loan purchased by the institution\n",
    " 7. Preapproval request denied by financial institution\n",
    " 8. Preapproval request approved but not accepted (optional reporting)\n",
    "\n",
    " 4-8 are not intresting in terms of investigating possible bias\n",
    "\n",
    "1 and 3 seem like natural opposites, while 2 doesn't entirely fit on a continium between the two. What to do? "
   ]
  },
  {
   "cell_type": "code",
   "execution_count": null,
   "metadata": {},
   "outputs": [],
   "source": [
    "# hist of pd series \n",
    "plt.hist(df[['action_taken']])\n",
    "print(df[['action_taken']].value_counts())\n",
    "plt.show()"
   ]
  },
  {
   "attachments": {},
   "cell_type": "markdown",
   "metadata": {},
   "source": [
    "### Curated the race feature \n",
    "- How does ethnicity variable relate to race? \n",
    "    - Ethnicity variable only encodes hispanic or not hispanic ethnicity, and the vast majority of latinos are put down as white \n",
    "    - We want to seperate whites and whites of hispanic ethnicity "
   ]
  },
  {
   "cell_type": "code",
   "execution_count": null,
   "metadata": {},
   "outputs": [],
   "source": [
    "# finding out what race people with latino ethnicity put down\n",
    "# seems large majority put down white \n",
    "# df[df['applicant_ethnicity'] == 1][['applicant_race_1']].value_counts()\n",
    "plt.hist(df[df['applicant_ethnicity'] == 1][['applicant_race_1']])"
   ]
  },
  {
   "attachments": {},
   "cell_type": "markdown",
   "metadata": {},
   "source": [
    "People don't seem to encode a second ethnicity (only 49 out 10 0000 people).\n",
    "\n",
    "Therefore doesn't seem that important to include this information in the race feature for now atleast"
   ]
  },
  {
   "cell_type": "code",
   "execution_count": null,
   "metadata": {},
   "outputs": [],
   "source": [
    "# nans in the columns reveal not many people put themselves down as having multiple races\n",
    "df.isna().sum()[['applicant_race_2','applicant_race_3','applicant_race_4','applicant_race_5']]"
   ]
  },
  {
   "attachments": {},
   "cell_type": "markdown",
   "metadata": {},
   "source": [
    "### Compare feature distribution in terms of race and/or gender"
   ]
  },
  {
   "cell_type": "code",
   "execution_count": null,
   "metadata": {},
   "outputs": [],
   "source": [
    "# Replace 'your_dataframe' with the actual DataFrame variable\n",
    "race_ethnicity_col = 'race_ethnicity'\n",
    "groups = [5, 9]\n",
    "features = ['applicant_income_000s', 'loan_amount_000s', 'hud_median_family_income']\n",
    "\n",
    "compare_race_ethnicity_groups(df, race_ethnicity_col, groups, features)\n"
   ]
  },
  {
   "attachments": {},
   "cell_type": "markdown",
   "metadata": {},
   "source": [
    "### Curate the sexy variable\n",
    "Sex:\n",
    " 1. Male\n",
    " 2. Female\n",
    " 3. Information not provided by applicant in mail, Internet, or telephone application\n",
    " 4. Not applicable\n",
    " 5. No co-applicant"
   ]
  },
  {
   "cell_type": "code",
   "execution_count": null,
   "metadata": {},
   "outputs": [],
   "source": [
    "race_ethnicity_col = 'applicant_co_applicant_sex'\n",
    "groups = ['1_2', '2_1', '1_1', '2_2']\n",
    "features = ['applicant_income_000s', 'loan_amount_000s', 'hud_median_family_income']\n",
    "\n",
    "compare_race_ethnicity_groups(df, race_ethnicity_col, groups, features)"
   ]
  },
  {
   "cell_type": "code",
   "execution_count": null,
   "metadata": {},
   "outputs": [],
   "source": []
  }
 ],
 "metadata": {
  "kernelspec": {
   "display_name": "Python 3",
   "language": "python",
   "name": "python3"
  },
  "language_info": {
   "codemirror_mode": {
    "name": "ipython",
    "version": 3
   },
   "file_extension": ".py",
   "mimetype": "text/x-python",
   "name": "python",
   "nbconvert_exporter": "python",
   "pygments_lexer": "ipython3",
   "version": "3.8.16"
  },
  "orig_nbformat": 4
 },
 "nbformat": 4,
 "nbformat_minor": 2
}
