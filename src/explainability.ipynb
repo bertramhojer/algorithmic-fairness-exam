{
 "cells": [
  {
   "cell_type": "code",
   "execution_count": null,
   "metadata": {},
   "outputs": [],
   "source": [
    "# Description: This file contains the code for the explainability of the model\n",
    "# https://towardsdatascience.com/introduction-to-shap-with-python-d27edc23c454\n",
    "# For binary classification SHAP works with the log-odds of a class.\n",
    "import numpy as np\n",
    "import pandas as pd\n",
    "import matplotlib.pyplot as plt\n",
    "import shap\n",
    "import torch\n",
    "shap.initjs()\n",
    "\n",
    "from LR_pt import LogisticRegression\n",
    "from NN import SimpleNN\n",
    "from data_loader import *"
   ]
  },
  {
   "cell_type": "code",
   "execution_count": null,
   "metadata": {},
   "outputs": [],
   "source": [
    "race_cols = ['Race_American_Indian_Alaska_Native',\n",
    "        'Race_Asian',\n",
    "        'Race_Black_African_American',\n",
    "        'Race_Native_Hawaiian_Pacific_Islander',\n",
    "        'Race_White',\n",
    "        'Race_White_Latino']\n",
    "\n",
    "features = ['loan_amount_000s', 'loan_type', \n",
    "       'property_type','applicant_income_000s', 'purchaser_type', 'hud_median_family_income',\n",
    "       'tract_to_msamd_income', 'number_of_owner_occupied_units', \n",
    "       'number_of_1_to_4_family_units', 'race_ethnicity', 'state_code', 'county_code',\n",
    "       'joint_sex', \"minority_population\", 'lien_status']\n",
    "\n",
    "features.remove('race_ethnicity')\n",
    "\n",
    "clean_features = ['Loan Amount', 'Loan Type', 'Property Type', 'Applicant Income', 'Purchaser Type',\n",
    "                'Family Income', 'Income Ratio', 'Occupied Units', '1-4 Family Units',\n",
    "                'State Code', 'County Code', 'Joint Sex', 'Minority Population', \n",
    "                'Lien Status']"
   ]
  },
  {
   "cell_type": "code",
   "execution_count": null,
   "metadata": {},
   "outputs": [],
   "source": [
    "data = data_loader(race_cols, num=100000, one_hot=True)\n",
    "x_train, x_val, x_test, y_train, y_val , y_test, train_groups, val_groups, test_groups = preprocess(data, features, race_cols)\n",
    "X = torch.from_numpy(x_test).float()\n",
    "y = torch.from_numpy(np.array(y_test)).long().view(-1, 1)"
   ]
  },
  {
   "cell_type": "code",
   "execution_count": null,
   "metadata": {},
   "outputs": [],
   "source": [
    "# model\n",
    "model_lr_state = torch.load(\"models/LRmodel_S:1000000_E:1000_F:True_L:1_G:0.1.pt\")\n",
    "model_lr = LogisticRegression(x_train.shape[1])\n",
    "model_lr.weights = model_lr_state['linear.weight']\n",
    "model_lr.bias = model_lr_state['linear.bias']\n",
    "\n",
    "model_nn_state = torch.load(\"models/NN_pca:False_E:20_lr:0.001_bs:512.pt\")\n",
    "model_nn = SimpleNN(X.shape[1], 2)\n",
    "model_nn.load_state_dict(model_nn_state)"
   ]
  },
  {
   "cell_type": "code",
   "execution_count": null,
   "metadata": {},
   "outputs": [],
   "source": [
    "X_np = X.detach().numpy()\n",
    "explainer = shap.Explainer(model_lr, X_np, feature_names=clean_features)\n",
    "shap_values_lr = explainer(X_np)"
   ]
  },
  {
   "cell_type": "code",
   "execution_count": null,
   "metadata": {},
   "outputs": [],
   "source": [
    "# Individual instance shap vals\n",
    "shap.plots.force(shap_values_lr[0])"
   ]
  },
  {
   "cell_type": "code",
   "execution_count": null,
   "metadata": {},
   "outputs": [],
   "source": [
    "## Overall shap vals\n",
    "# mean SHAP value for each feature\n",
    "#shap.plots.bar(shap_values_lr[:,:6])\n",
    "shap.summary_plot(shap_values_lr, X, feature_names=clean_features, plot_type='bar')\n",
    "\n",
    "# Beeswarm plot\n",
    "#shap.plots.beeswarm(shap_values_lr[:,:6])\n",
    "shap.summary_plot(shap_values_lr, X, feature_names=clean_features)"
   ]
  },
  {
   "cell_type": "code",
   "execution_count": null,
   "metadata": {},
   "outputs": [],
   "source": [
    "X_sub = X[:1000]\n",
    "explainer_nn = shap.DeepExplainer(model_lr, X_sub)\n",
    "shap_values_nn = explainer_nn.shap_values(X_sub)"
   ]
  },
  {
   "cell_type": "code",
   "execution_count": null,
   "metadata": {},
   "outputs": [],
   "source": [
    "shap.summary_plot(shap_values_nn, X_sub, feature_names=clean_features, plot_type='bar')"
   ]
  },
  {
   "cell_type": "code",
   "execution_count": null,
   "metadata": {},
   "outputs": [],
   "source": [
    "shap.summary_plot(shap_values_nn, X_sub, feature_names=clean_features)"
   ]
  }
 ],
 "metadata": {
  "kernelspec": {
   "display_name": "alfae",
   "language": "python",
   "name": "python3"
  },
  "language_info": {
   "name": "python",
   "version": "3.10.0"
  },
  "orig_nbformat": 4
 },
 "nbformat": 4,
 "nbformat_minor": 2
}
