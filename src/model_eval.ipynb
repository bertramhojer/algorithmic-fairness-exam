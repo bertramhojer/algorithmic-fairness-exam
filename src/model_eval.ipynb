{
 "cells": [
  {
   "cell_type": "code",
   "execution_count": 4,
   "metadata": {},
   "outputs": [],
   "source": [
    "from NN import SimpleNN\n",
    "from LR_pt import LogisticRegression\n",
    "import torch"
   ]
  },
  {
   "cell_type": "code",
   "execution_count": 5,
   "metadata": {},
   "outputs": [],
   "source": [
    "model_path = \"models/NN_pca:False_E:20_lr:0.001_bs:512.pt\"\n",
    "num_classes = 2\n",
    "\n",
    "# Set device\n",
    "device = torch.device('mps' if torch.cuda.is_available() else 'cpu')\n",
    "# Initialize the model\n",
    "model = SimpleNN(x_train.shape[1], num_classes).to(device)\n",
    "\n",
    "# Load the model\n",
    "model.load_state_dict(torch.load(model_path))\n"
   ]
  },
  {
   "cell_type": "code",
   "execution_count": null,
   "metadata": {},
   "outputs": [],
   "source": []
  }
 ],
 "metadata": {
  "kernelspec": {
   "display_name": "base",
   "language": "python",
   "name": "python3"
  },
  "language_info": {
   "codemirror_mode": {
    "name": "ipython",
    "version": 3
   },
   "file_extension": ".py",
   "mimetype": "text/x-python",
   "name": "python",
   "nbconvert_exporter": "python",
   "pygments_lexer": "ipython3",
   "version": "3.8.16"
  },
  "orig_nbformat": 4
 },
 "nbformat": 4,
 "nbformat_minor": 2
}
