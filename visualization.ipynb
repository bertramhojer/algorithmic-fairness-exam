{
 "cells": [
  {
   "cell_type": "code",
   "execution_count": 1,
   "metadata": {},
   "outputs": [],
   "source": [
    "import pandas as pd\n",
    "from visualization import *\n",
    "from data_loader import data_loader"
   ]
  },
  {
   "cell_type": "code",
   "execution_count": 2,
   "metadata": {},
   "outputs": [
    {
     "name": "stdout",
     "output_type": "stream",
     "text": [
      "Loading data...\n",
      "processed_data.csv does not exist. Loading data from original file.\n"
     ]
    }
   ],
   "source": [
    "data = data_loader(num=100000)"
   ]
  },
  {
   "cell_type": "code",
   "execution_count": null,
   "metadata": {},
   "outputs": [],
   "source": [
    "groups = [1, 2, 3, 4, 5, 9]\n",
    "group_labels = [\"American Indian\", \"Asian\", \"African American\", \"Hawaiian/Pacific\", \"White\", \"Latino\"]\n",
    "features = ['applicant_income_000s', 'loan_amount_000s', 'hud_median_family_income', 'msamd']\n",
    "\n",
    "plot_density_differences(data, \"race_ethnicity\", groups, group_labels, features, title=\"Economy by Race/Ethnicity Comparison\")"
   ]
  },
  {
   "cell_type": "code",
   "execution_count": null,
   "metadata": {},
   "outputs": [],
   "source": [
    "groups = ['1_2', '2_1', '1_1', '2_2']\n",
    "group_labels = [\"male-female\", \"female-male\", \"male-male\", \"female-female\"]\n",
    "features = ['applicant_income_000s', 'loan_amount_000s', 'hud_median_family_income', 'msamd']\n",
    "\n",
    "plot_density_differences(data, \"applicant_co_applicant_sex\", groups, group_labels, features, title=\"Economy by Gender Comparison\")"
   ]
  },
  {
   "cell_type": "code",
   "execution_count": null,
   "metadata": {},
   "outputs": [],
   "source": [
    "groups = [1, 2, 3, 4, 5, 9]\n",
    "group_labels = [\"American Indian\", \"Asian\", \"African American\", \"Hawaiian/Pacific\", \"White\", \"Latino\"]\n",
    "features = ['action_taken']\n",
    "\n",
    "plot_histogram_differences(data, 'race_ethnicity', 'action_taken', groups, group_labels, features, title='Approval by Race')"
   ]
  },
  {
   "cell_type": "code",
   "execution_count": null,
   "metadata": {},
   "outputs": [],
   "source": [
    "approval_rates(data)"
   ]
  },
  {
   "cell_type": "code",
   "execution_count": null,
   "metadata": {},
   "outputs": [],
   "source": [
    "subset = data[[\"action_taken\", \"race_ethnicity\", \"joint_sex\", \"applicant_income_000s\", \"income_group\", \"hud_median_family_income\", \"msamd\"]]\n",
    "associations_df = associations(subset)"
   ]
  }
 ],
 "metadata": {
  "kernelspec": {
   "display_name": "alfae",
   "language": "python",
   "name": "python3"
  },
  "language_info": {
   "codemirror_mode": {
    "name": "ipython",
    "version": 3
   },
   "file_extension": ".py",
   "mimetype": "text/x-python",
   "name": "python",
   "nbconvert_exporter": "python",
   "pygments_lexer": "ipython3",
   "version": "3.10.0"
  },
  "orig_nbformat": 4
 },
 "nbformat": 4,
 "nbformat_minor": 2
}
