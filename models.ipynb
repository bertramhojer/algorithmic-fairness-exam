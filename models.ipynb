{
 "cells": [
  {
   "cell_type": "code",
   "execution_count": 1,
   "metadata": {},
   "outputs": [],
   "source": [
    "from data_loader import data_loader, preprocess\n",
    "from model_helper import get_tuned_gamma, train, tune_lambda, plot_lambda_tuning\n",
    "import numpy as np\n",
    "from PCA import project_and_plot_PCA, plot_reconstruction_loss, PCA, fair_PCA, corr_plot\n",
    "import pandas as pd\n",
    "from Bootstrap_and_eval import eval, bootstrap_eval_one, plot_violin_metrics_with_ci_single\n",
    "from NN import train_and_evaluate_nn"
   ]
  },
  {
   "attachments": {},
   "cell_type": "markdown",
   "metadata": {},
   "source": [
    "# Retriving, splitting and preprocessing data"
   ]
  },
  {
   "cell_type": "code",
   "execution_count": 2,
   "metadata": {},
   "outputs": [
    {
     "name": "stdout",
     "output_type": "stream",
     "text": [
      "Loading data...\n",
      "processed_data.csv exists. Loading data from file.\n",
      "Num features BEFORE filtering features 54\n",
      "Num features AFTER filtering features 15\n",
      "x_train shape:  (445, 15)\n",
      "y_train shape:  (112, 15)\n",
      "All rows in train_groups sum to 1: True\n"
     ]
    }
   ],
   "source": [
    "one_hot_cols = ['Race_American_Indian_Alaska_Native',\n",
    "        'Race_Asian',\n",
    "        'Race_Black_African_American',\n",
    "        'Race_Native_Hawaiian_Pacific_Islander',\n",
    "        'Race_White',\n",
    "        #'Race_Info_Not_Provided',\n",
    "        #'Race_Not_applicable',\n",
    "        #'Race_No_co_applicant', \n",
    "        'Race_White_Latino']\n",
    "one_hot = True\n",
    "df = data_loader(one_hot_cols, num=1000)\n",
    "\n",
    "# filter columns to only include columns in the features list below\n",
    "features = ['loan_amount_000s', 'loan_type', 'owner_occupancy', \n",
    "       'property_type','applicant_income_000s', 'purchaser_type', 'hud_median_family_income',\n",
    "       'tract_to_msamd_income', 'number_of_owner_occupied_units', \n",
    "       'number_of_1_to_4_family_units', 'race_ethnicity', 'state_code', 'county_code',\n",
    "       'joint_sex', \"minority_population\", 'lien_status']\n",
    "if one_hot:\n",
    "       #features = features + one_hot_cols\n",
    "       # remove  'race_ethnicity' from features\n",
    "       features.remove('race_ethnicity')\n",
    "x_train, x_test, y_train, y_test, train_groups, test_groups = preprocess(df, features, one_hot_cols)\n",
    "print(f'All rows in train_groups sum to 1: {np.allclose(np.sum(train_groups, axis=1), 1)}')"
   ]
  },
  {
   "attachments": {},
   "cell_type": "markdown",
   "metadata": {},
   "source": [
    "# Varitions of Logistic Reggression(LR) models "
   ]
  },
  {
   "attachments": {},
   "cell_type": "markdown",
   "metadata": {},
   "source": [
    "### Vanilla LR "
   ]
  },
  {
   "cell_type": "code",
   "execution_count": null,
   "metadata": {},
   "outputs": [],
   "source": [
    "betas = np.random.rand(x_train.shape[1])\n",
    "_lambda = None \n",
    "fair_loss_ = 'NO l2'\n",
    "\n",
    "unfair_preds = train(x_train, y_train, x_test, y_test, train_groups, fair_loss_, best_gamma, lambda_val=1)  # do use l2 regularization here ergo False\n"
   ]
  },
  {
   "attachments": {},
   "cell_type": "markdown",
   "metadata": {},
   "source": [
    "### Find optimal regulazation strength of L2"
   ]
  },
  {
   "cell_type": "code",
   "execution_count": null,
   "metadata": {},
   "outputs": [],
   "source": [
    "betas = np.random.rand(x_train.shape[1])\n",
    "gammas = np.linspace(0.1, 1, 10)\n",
    "best_gamma = get_tuned_gamma(gammas, x_train, y_train, num_folds=5, verbose=False)\n"
   ]
  },
  {
   "attachments": {},
   "cell_type": "markdown",
   "metadata": {},
   "source": [
    "### Train LR With L2"
   ]
  },
  {
   "cell_type": "code",
   "execution_count": null,
   "metadata": {},
   "outputs": [],
   "source": [
    "betas = np.random.rand(x_train.shape[1])\n",
    "_lambda = None \n",
    "fair_loss_ = False\n",
    "\n",
    "unfair_preds = train(x_train, y_train, x_test, y_test, train_groups, best_gamma, fair_loss_) "
   ]
  },
  {
   "attachments": {},
   "cell_type": "markdown",
   "metadata": {},
   "source": [
    "### Find regulazation strength of fair loss(lambda)\n",
    "Then train L2 + Fairness loss"
   ]
  },
  {
   "cell_type": "code",
   "execution_count": null,
   "metadata": {},
   "outputs": [],
   "source": [
    "fair_loss_ = True\n",
    "best_gamma = 0.1\n",
    "performance_metrics = tune_lambda(x_train, y_train, test_groups, train_groups, x_test, y_test, fair_loss_, best_gamma, one_hot_cols=one_hot_cols)"
   ]
  },
  {
   "cell_type": "code",
   "execution_count": null,
   "metadata": {},
   "outputs": [],
   "source": [
    "lambda_vals = [0.001, 0.005, 0.01, 0.05, 0.1, 1]\n",
    "plot_lambda_tuning(performance_metrics, lambda_vals, one_hot_cols=one_hot_cols)\n"
   ]
  },
  {
   "cell_type": "code",
   "execution_count": null,
   "metadata": {},
   "outputs": [],
   "source": [
    "betas = np.random.rand(x_train.shape[1])\n",
    "_lambda = None \n",
    "fair_loss_ = True\n",
    "\n",
    "unfair_preds = train(x_train, y_train, x_test, y_test, train_groups, fair_loss_, best_gamma) "
   ]
  },
  {
   "cell_type": "code",
   "execution_count": null,
   "metadata": {},
   "outputs": [],
   "source": [
    "# print shape of x_train, y_train, x_test, y_test, groups,\n",
    "print(\"x_train shape: \", x_train.shape, type(x_train))\n",
    "print(\"y_train shape: \", y_train.shape)\n",
    "print(\"x_test shape: \", x_test.shape, type(x_test))\n",
    "print(\"y_test shape: \", y_test.shape, type(y_test))\n",
    "print(\"train groups shape: \", train_groups.shape)\n",
    "print(\"test groups shape: \", test_groups.shape)\n"
   ]
  },
  {
   "attachments": {},
   "cell_type": "markdown",
   "metadata": {},
   "source": [
    "# Fair PCA "
   ]
  },
  {
   "attachments": {},
   "cell_type": "markdown",
   "metadata": {},
   "source": [
    "Fit PCA components to data"
   ]
  },
  {
   "cell_type": "code",
   "execution_count": null,
   "metadata": {},
   "outputs": [],
   "source": [
    "x_train_pd = pd.DataFrame(x_train, columns=features)\n",
    "x_test_pd = pd.DataFrame(x_test, columns=features)\n",
    "project_and_plot_PCA(x_train_pd, n_components=len(features), size = (25,10),corr_metric='pearson')"
   ]
  },
  {
   "cell_type": "code",
   "execution_count": null,
   "metadata": {},
   "outputs": [],
   "source": [
    "corr_plot(x_train_pd, 'pearson', train_groups, n_components=len(features), fair=False)\n",
    "corr_plot(x_train_pd, 'pearson', train_groups, n_components=len(features), fair=True)"
   ]
  },
  {
   "cell_type": "code",
   "execution_count": null,
   "metadata": {},
   "outputs": [],
   "source": [
    "plot_reconstruction_loss(x_train_pd, x_test_pd, len(features), train_groups, fair=False)"
   ]
  },
  {
   "attachments": {},
   "cell_type": "markdown",
   "metadata": {},
   "source": [
    "Train model on fair PCA data "
   ]
  },
  {
   "cell_type": "code",
   "execution_count": null,
   "metadata": {},
   "outputs": [],
   "source": [
    "normal_preds, pca_preds, fair_preds = eval(x_train_pd, x_test_pd, y_test, y_train, y_test, train_groups)"
   ]
  },
  {
   "cell_type": "code",
   "execution_count": null,
   "metadata": {},
   "outputs": [],
   "source": [
    "best_gamma = 0.1\n",
    "unfair_preds = train(x_train, y_train, x_test, y_test, train_groups, fair_loss_=False, best_gamma=best_gamma)  # do use l2 regularization here ergo False\n",
    "n_bootstrap = 1000\n",
    "sample_size = 500\n",
    "accuracy_scores, f1_scores, precision_scores, recall_scores = bootstrap_eval_one(unfair_preds, None, y_test, n_bootstrap, sample_size)\n",
    "plot_violin_metrics_with_ci_single(accuracy_scores, f1_scores, precision_scores, recall_scores, confidence_level=0.95)\n"
   ]
  },
  {
   "attachments": {},
   "cell_type": "markdown",
   "metadata": {},
   "source": [
    "# BLACK BOX MODEL"
   ]
  },
  {
   "cell_type": "code",
   "execution_count": 11,
   "metadata": {},
   "outputs": [
    {
     "name": "stdout",
     "output_type": "stream",
     "text": [
      "Epoch 1/100, Loss: 0.676562522138868\n",
      "Epoch 2/100, Loss: 0.5422509397779193\n",
      "Epoch 3/100, Loss: 0.4838653824159077\n",
      "Epoch 4/100, Loss: 0.4440968355962208\n",
      "Epoch 5/100, Loss: 0.41580743874822346\n",
      "Epoch 6/100, Loss: 0.39334985613822937\n",
      "Epoch 7/100, Loss: 0.37577645906380247\n",
      "Epoch 8/100, Loss: 0.3617322114961488\n",
      "Epoch 9/100, Loss: 0.34913300616400583\n",
      "Epoch 10/100, Loss: 0.339239307812282\n",
      "Epoch 11/100, Loss: 0.32965280222041266\n",
      "Epoch 12/100, Loss: 0.31888373834746225\n",
      "Epoch 13/100, Loss: 0.3106550137911524\n",
      "Epoch 14/100, Loss: 0.30150061420031954\n",
      "Epoch 15/100, Loss: 0.294631082032408\n",
      "Epoch 16/100, Loss: 0.2882713239107813\n",
      "Epoch 17/100, Loss: 0.28266587214810507\n",
      "Epoch 18/100, Loss: 0.27385901446853367\n",
      "Epoch 19/100, Loss: 0.2679594840322222\n",
      "Epoch 20/100, Loss: 0.26229044049978256\n",
      "Epoch 21/100, Loss: 0.25435622142893927\n",
      "Epoch 22/100, Loss: 0.25074074204478947\n",
      "Epoch 23/100, Loss: 0.2442831343838147\n",
      "Epoch 24/100, Loss: 0.2387949451804161\n",
      "Epoch 25/100, Loss: 0.23500719772917883\n",
      "Epoch 26/100, Loss: 0.22795238186206138\n",
      "Epoch 27/100, Loss: 0.22363017180136271\n",
      "Epoch 28/100, Loss: 0.21879015011446817\n",
      "Epoch 29/100, Loss: 0.2147081590124539\n",
      "Epoch 30/100, Loss: 0.21010728499719075\n",
      "Epoch 31/100, Loss: 0.20559935058866227\n",
      "Epoch 32/100, Loss: 0.20455895364284515\n",
      "Epoch 33/100, Loss: 0.19852800135101592\n",
      "Epoch 34/100, Loss: 0.19477410561272077\n",
      "Epoch 35/100, Loss: 0.19008289011461393\n",
      "Epoch 36/100, Loss: 0.1875076661152499\n",
      "Epoch 37/100, Loss: 0.18401998121823585\n",
      "Epoch 38/100, Loss: 0.18100194845880782\n",
      "Epoch 39/100, Loss: 0.17729672629918372\n",
      "Epoch 40/100, Loss: 0.17458467185497284\n",
      "Epoch 41/100, Loss: 0.17073885191764152\n",
      "Epoch 42/100, Loss: 0.16850138242755616\n",
      "Epoch 43/100, Loss: 0.16592301428318024\n",
      "Epoch 44/100, Loss: 0.1629726913358484\n",
      "Epoch 45/100, Loss: 0.16109976119228772\n",
      "Epoch 46/100, Loss: 0.15832558221050672\n",
      "Epoch 47/100, Loss: 0.1567983930664403\n",
      "Epoch 48/100, Loss: 0.15385106871170656\n",
      "Epoch 49/100, Loss: 0.1504965334066323\n",
      "Epoch 50/100, Loss: 0.14858305294598853\n",
      "Epoch 51/100, Loss: 0.14799182542732783\n",
      "Epoch 52/100, Loss: 0.1461067268890994\n",
      "Epoch 53/100, Loss: 0.1430045430149351\n",
      "Epoch 54/100, Loss: 0.14187224741492951\n",
      "Epoch 55/100, Loss: 0.14017980598977633\n",
      "Epoch 56/100, Loss: 0.13788610962884768\n",
      "Epoch 57/100, Loss: 0.135486472930227\n",
      "Epoch 58/100, Loss: 0.13376344900046075\n",
      "Epoch 59/100, Loss: 0.1318164079317025\n",
      "Epoch 60/100, Loss: 0.13014962470957211\n",
      "Epoch 61/100, Loss: 0.13026153509105956\n",
      "Epoch 62/100, Loss: 0.1269469050956624\n",
      "Epoch 63/100, Loss: 0.12624964171222278\n",
      "Epoch 64/100, Loss: 0.12481243801968438\n",
      "Epoch 65/100, Loss: 0.12293420492538384\n",
      "Epoch 66/100, Loss: 0.12075839510985784\n",
      "Epoch 67/100, Loss: 0.1198353288429124\n",
      "Epoch 68/100, Loss: 0.11896199839455741\n",
      "Epoch 69/100, Loss: 0.11688105362866606\n",
      "Epoch 70/100, Loss: 0.11585907052670207\n",
      "Epoch 71/100, Loss: 0.11356268956192903\n",
      "Epoch 72/100, Loss: 0.1125425613884415\n",
      "Epoch 73/100, Loss: 0.11241860022502285\n",
      "Epoch 74/100, Loss: 0.10958915576338768\n",
      "Epoch 75/100, Loss: 0.10866796996976648\n",
      "Epoch 76/100, Loss: 0.10743607421006475\n",
      "Epoch 77/100, Loss: 0.10671819906149592\n",
      "Epoch 78/100, Loss: 0.10575608297118119\n",
      "Epoch 79/100, Loss: 0.10364580234246594\n",
      "Epoch 80/100, Loss: 0.10299190266856126\n",
      "Epoch 81/100, Loss: 0.10191334038972855\n",
      "Epoch 82/100, Loss: 0.09957229532301426\n",
      "Epoch 83/100, Loss: 0.09995772769408566\n",
      "Epoch 84/100, Loss: 0.09861419775656291\n",
      "Epoch 85/100, Loss: 0.09625826882464546\n",
      "Epoch 86/100, Loss: 0.0954405992691006\n",
      "Epoch 87/100, Loss: 0.09601715153881482\n",
      "Epoch 88/100, Loss: 0.09360240905412606\n",
      "Epoch 89/100, Loss: 0.09397138468921185\n",
      "Epoch 90/100, Loss: 0.09203020802565984\n",
      "Epoch 91/100, Loss: 0.09046729773815189\n",
      "Epoch 92/100, Loss: 0.0890406881059919\n",
      "Epoch 93/100, Loss: 0.08821450360119343\n",
      "Epoch 94/100, Loss: 0.08756088438842978\n",
      "Epoch 95/100, Loss: 0.08593564294278622\n",
      "Epoch 96/100, Loss: 0.08553953468799591\n",
      "Epoch 97/100, Loss: 0.08485290594398975\n",
      "Epoch 98/100, Loss: 0.08341020052986485\n",
      "Epoch 99/100, Loss: 0.0823530876742942\n",
      "Epoch 100/100, Loss: 0.08316231838294438\n"
     ]
    },
    {
     "data": {
      "image/png": "[encoded data removed]",
      "text/plain": [
       "<Figure size 640x480 with 1 Axes>"
      ]
     },
     "metadata": {},
     "output_type": "display_data"
    },
    {
     "name": "stdout",
     "output_type": "stream",
     "text": [
      "Test Accuracy: 78.57142857142857%\n"
     ]
    },
    {
     "data": {
      "text/plain": [
       "(SimpleNN(\n",
       "   (fc1): Linear(in_features=15, out_features=128, bias=True)\n",
       "   (relu): ReLU()\n",
       "   (fc2): Linear(in_features=128, out_features=2, bias=True)\n",
       " ),\n",
       " 78.57142857142857)"
      ]
     },
     "execution_count": 11,
     "metadata": {},
     "output_type": "execute_result"
    }
   ],
   "source": [
    "x_train_np = np.array(x_train)\n",
    "y_train_np = np.array(y_train)\n",
    "x_test_np = np.array(x_test)\n",
    "y_test_np = np.array(y_test)\n",
    "\n",
    "train_and_evaluate_nn(x_train_np, x_test_np, y_train_np, y_test_np,num_epochs=100, plot_loss=True)\n"
   ]
  },
  {
   "attachments": {},
   "cell_type": "markdown",
   "metadata": {},
   "source": [
    "### NN trained on fair PCA data"
   ]
  },
  {
   "cell_type": "code",
   "execution_count": 12,
   "metadata": {},
   "outputs": [
    {
     "name": "stdout",
     "output_type": "stream",
     "text": [
      "Epoch 1/100, Loss: 0.6233174587999072\n",
      "Epoch 2/100, Loss: 0.5203835432018552\n",
      "Epoch 3/100, Loss: 0.4790416955947876\n",
      "Epoch 4/100, Loss: 0.4548524043389729\n",
      "Epoch 5/100, Loss: 0.43777076474257876\n",
      "Epoch 6/100, Loss: 0.424763736980302\n",
      "Epoch 7/100, Loss: 0.4164000643151147\n",
      "Epoch 8/100, Loss: 0.40966547812734333\n",
      "Epoch 9/100, Loss: 0.4040245573435511\n",
      "Epoch 10/100, Loss: 0.39930073810475214\n",
      "Epoch 11/100, Loss: 0.39374966280800955\n",
      "Epoch 12/100, Loss: 0.38965463425431934\n",
      "Epoch 13/100, Loss: 0.3869765081575939\n",
      "Epoch 14/100, Loss: 0.38457380660942625\n",
      "Epoch 15/100, Loss: 0.3805109943662371\n",
      "Epoch 16/100, Loss: 0.37853087059089113\n",
      "Epoch 17/100, Loss: 0.37454222036259516\n",
      "Epoch 18/100, Loss: 0.3711144583565848\n",
      "Epoch 19/100, Loss: 0.3687348791531154\n",
      "Epoch 20/100, Loss: 0.3663471681731088\n",
      "Epoch 21/100, Loss: 0.36276431168828693\n",
      "Epoch 22/100, Loss: 0.36020685732364655\n",
      "Epoch 23/100, Loss: 0.35631575754710604\n",
      "Epoch 24/100, Loss: 0.3550709741456168\n",
      "Epoch 25/100, Loss: 0.3526194127542632\n",
      "Epoch 26/100, Loss: 0.3503726582442011\n",
      "Epoch 27/100, Loss: 0.34719259079013554\n",
      "Epoch 28/100, Loss: 0.3451924813645227\n",
      "Epoch 29/100, Loss: 0.3433577130947794\n",
      "Epoch 30/100, Loss: 0.3403153472713062\n",
      "Epoch 31/100, Loss: 0.3376016563602856\n",
      "Epoch 32/100, Loss: 0.33661217029605595\n",
      "Epoch 33/100, Loss: 0.3330960933651243\n",
      "Epoch 34/100, Loss: 0.33098550885915756\n",
      "Epoch 35/100, Loss: 0.3287707875881876\n",
      "Epoch 36/100, Loss: 0.3271491900086403\n",
      "Epoch 37/100, Loss: 0.3231740721634456\n",
      "Epoch 38/100, Loss: 0.3217132847223963\n",
      "Epoch 39/100, Loss: 0.31977312160389765\n",
      "Epoch 40/100, Loss: 0.31717753410339355\n",
      "Epoch 41/100, Loss: 0.31510150964771\n",
      "Epoch 42/100, Loss: 0.31371890753507614\n",
      "Epoch 43/100, Loss: 0.3105606202568327\n",
      "Epoch 44/100, Loss: 0.3085509570581572\n",
      "Epoch 45/100, Loss: 0.3058177977800369\n",
      "Epoch 46/100, Loss: 0.3045541431222643\n",
      "Epoch 47/100, Loss: 0.3019085239086832\n",
      "Epoch 48/100, Loss: 0.3004221660750253\n",
      "Epoch 49/100, Loss: 0.2977162940161569\n",
      "Epoch 50/100, Loss: 0.29673971235752106\n",
      "Epoch 51/100, Loss: 0.294945943568434\n",
      "Epoch 52/100, Loss: 0.2927664507712637\n",
      "Epoch 53/100, Loss: 0.2916157256279673\n",
      "Epoch 54/100, Loss: 0.28787096802677425\n",
      "Epoch 55/100, Loss: 0.2879658437200955\n",
      "Epoch 56/100, Loss: 0.2850551711661475\n",
      "Epoch 57/100, Loss: 0.28258579543658663\n",
      "Epoch 58/100, Loss: 0.2804464123078755\n",
      "Epoch 59/100, Loss: 0.27986286261251997\n",
      "Epoch 60/100, Loss: 0.2761331094162805\n",
      "Epoch 61/100, Loss: 0.27532259268420084\n",
      "Epoch 62/100, Loss: 0.2722754744546754\n",
      "Epoch 63/100, Loss: 0.27195484404053005\n",
      "Epoch 64/100, Loss: 0.27126272661345346\n",
      "Epoch 65/100, Loss: 0.26858424714633394\n",
      "Epoch 66/100, Loss: 0.26741932864700046\n",
      "Epoch 67/100, Loss: 0.26570201558726175\n",
      "Epoch 68/100, Loss: 0.26281399705580305\n",
      "Epoch 69/100, Loss: 0.2607317215629986\n",
      "Epoch 70/100, Loss: 0.26027616911700796\n",
      "Epoch 71/100, Loss: 0.257784115416663\n",
      "Epoch 72/100, Loss: 0.2559166635785784\n",
      "Epoch 73/100, Loss: 0.2544412123305457\n",
      "Epoch 74/100, Loss: 0.25232076325586866\n",
      "Epoch 75/100, Loss: 0.2527508299265589\n",
      "Epoch 76/100, Loss: 0.25082137967859\n",
      "Epoch 77/100, Loss: 0.24913843401840755\n",
      "Epoch 78/100, Loss: 0.2480524746435029\n",
      "Epoch 79/100, Loss: 0.24803561504398072\n",
      "Epoch 80/100, Loss: 0.24523411371878215\n",
      "Epoch 81/100, Loss: 0.24396165353911264\n",
      "Epoch 82/100, Loss: 0.24309426758970534\n",
      "Epoch 83/100, Loss: 0.24117620076451982\n",
      "Epoch 84/100, Loss: 0.2401180544069835\n",
      "Epoch 85/100, Loss: 0.2386605026466506\n",
      "Epoch 86/100, Loss: 0.23696496710181236\n",
      "Epoch 87/100, Loss: 0.23534800857305527\n",
      "Epoch 88/100, Loss: 0.23444060768399919\n",
      "Epoch 89/100, Loss: 0.2327251402395112\n",
      "Epoch 90/100, Loss: 0.2313409617968968\n",
      "Epoch 91/100, Loss: 0.22976845609290258\n",
      "Epoch 92/100, Loss: 0.22947854761566436\n",
      "Epoch 93/100, Loss: 0.23128366257463182\n",
      "Epoch 94/100, Loss: 0.2273134466792856\n",
      "Epoch 95/100, Loss: 0.22552353037255152\n",
      "Epoch 96/100, Loss: 0.2240539374096053\n",
      "Epoch 97/100, Loss: 0.22294885984488896\n",
      "Epoch 98/100, Loss: 0.22258740131344115\n",
      "Epoch 99/100, Loss: 0.2210844425218446\n",
      "Epoch 100/100, Loss: 0.22000369961772645\n"
     ]
    },
    {
     "data": {
      "image/png": "[encoded data removed]",
      "text/plain": [
       "<Figure size 640x480 with 1 Axes>"
      ]
     },
     "metadata": {},
     "output_type": "display_data"
    },
    {
     "name": "stdout",
     "output_type": "stream",
     "text": [
      "Test Accuracy: 82.14285714285714%\n"
     ]
    },
    {
     "data": {
      "text/plain": [
       "(SimpleNN(\n",
       "   (fc1): Linear(in_features=10, out_features=128, bias=True)\n",
       "   (relu): ReLU()\n",
       "   (fc2): Linear(in_features=128, out_features=2, bias=True)\n",
       " ),\n",
       " 82.14285714285714)"
      ]
     },
     "execution_count": 12,
     "metadata": {},
     "output_type": "execute_result"
    }
   ],
   "source": [
    "x_train_fair, U, explained_variance = fair_PCA(x_train, 15, train_groups)\n",
    "x_test_fair = x_test_np @ U\n",
    "train_and_evaluate_nn(x_train_fair, x_test_fair, y_train_np, y_test_np,num_epochs=100, plot_loss=True)\n"
   ]
  }
 ],
 "metadata": {
  "kernelspec": {
   "display_name": "base",
   "language": "python",
   "name": "python3"
  },
  "language_info": {
   "codemirror_mode": {
    "name": "ipython",
    "version": 3
   },
   "file_extension": ".py",
   "mimetype": "text/x-python",
   "name": "python",
   "nbconvert_exporter": "python",
   "pygments_lexer": "ipython3",
   "version": "3.8.16"
  },
  "orig_nbformat": 4
 },
 "nbformat": 4,
 "nbformat_minor": 2
}
