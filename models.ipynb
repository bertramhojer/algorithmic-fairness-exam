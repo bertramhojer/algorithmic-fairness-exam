{
 "cells": [
  {
   "cell_type": "code",
   "execution_count": 1,
   "metadata": {},
   "outputs": [],
   "source": [
    "from data_loader import data_loader, preprocess\n",
    "from model_helper import get_tuned_gamma, train, tune_lambda, plot_lambda_tuning\n",
    "import numpy as np\n",
    "from PCA import project_and_plot_PCA, corr_plot, plot_reconstruction_loss\n",
    "import pandas as pd\n",
    "from Bootstrap_and_eval import eval\n",
    "from NN import train_and_evaluate_nn\n"
   ]
  },
  {
   "cell_type": "code",
   "execution_count": 2,
   "metadata": {},
   "outputs": [
    {
     "name": "stdout",
     "output_type": "stream",
     "text": [
      "Loading data...\n",
      "processed_data.csv exists. Loading data from file.\n",
      "Sample size BEFORE filtering 641\n",
      "Sample size AFTER filtering 468\n",
      "Num features BEFORE filtering 468\n",
      "Num features AFTER filtering 468\n",
      "x_train shape:  (374, 16)\n",
      "y_train shape:  (94, 16)\n"
     ]
    }
   ],
   "source": [
    "df = data_loader(num=1000)\n",
    "\n",
    "# filter columns to only include columns in the features list below\n",
    "features = ['loan_amount_000s', 'loan_type', 'owner_occupancy', \n",
    "       'property_type','applicant_income_000s', 'purchaser_type', 'hud_median_family_income',\n",
    "       'tract_to_msamd_income', 'number_of_owner_occupied_units', \n",
    "       'number_of_1_to_4_family_units', 'race_ethnicity', 'state_code', 'county_code',\n",
    "       'joint_sex',\"minority_population\", 'lien_status']\n",
    "\n",
    "x_train, x_test, y_train, y_test, train_groups, test_groups = preprocess(df, features)"
   ]
  },
  {
   "cell_type": "code",
   "execution_count": null,
   "metadata": {},
   "outputs": [],
   "source": [
    "betas = np.random.rand(x_train.shape[1])\n",
    "gammas = np.linspace(0.1, 1, 10)\n",
    "best_gamma = get_tuned_gamma(gammas, x_train, y_train, num_folds=5, verbose=False)"
   ]
  },
  {
   "cell_type": "code",
   "execution_count": null,
   "metadata": {},
   "outputs": [],
   "source": [
    "betas = np.random.rand(x_train.shape[1])\n",
    "_lambda = None \n",
    "fair_loss_ = 'NO l2'\n",
    "\n",
    "unfair_preds = train(x_train, y_train, x_test, y_test, train_groups, fair_loss_, best_gamma, lambda_val=1)  # do use l2 regularization here ergo False\n"
   ]
  },
  {
   "attachments": {},
   "cell_type": "markdown",
   "metadata": {},
   "source": [
    "With L2"
   ]
  },
  {
   "cell_type": "code",
   "execution_count": null,
   "metadata": {},
   "outputs": [],
   "source": [
    "betas = np.random.rand(x_train.shape[1])\n",
    "_lambda = None \n",
    "fair_loss_ = False\n",
    "\n",
    "unfair_preds = train(x_train, y_train, x_test, y_test, train_groups, best_gamma, fair_loss_) "
   ]
  },
  {
   "attachments": {},
   "cell_type": "markdown",
   "metadata": {},
   "source": [
    "First tune hyperparameter lambda \n",
    "\n",
    "then train L2 + Fairness loss"
   ]
  },
  {
   "cell_type": "code",
   "execution_count": null,
   "metadata": {},
   "outputs": [],
   "source": [
    "fair_loss_ = True\n",
    "performance_metrics = tune_lambda(x_train, y_train, test_groups, train_groups, x_test, y_test, fair_loss_, best_gamma)"
   ]
  },
  {
   "cell_type": "code",
   "execution_count": null,
   "metadata": {},
   "outputs": [],
   "source": [
    "lambda_vals = [0.001, 0.005, 0.01, 0.05, 0.1, 1]\n",
    "plot_lambda_tuning(performance_metrics, lambda_vals)\n"
   ]
  },
  {
   "cell_type": "code",
   "execution_count": null,
   "metadata": {},
   "outputs": [],
   "source": [
    "betas = np.random.rand(x_train.shape[1])\n",
    "_lambda = None \n",
    "fair_loss_ = True\n",
    "\n",
    "unfair_preds = train(x_train, y_train, x_test, y_test, train_groups, fair_loss_, best_gamma) "
   ]
  },
  {
   "cell_type": "code",
   "execution_count": 7,
   "metadata": {},
   "outputs": [
    {
     "name": "stdout",
     "output_type": "stream",
     "text": [
      "x_train shape:  (374, 16) <class 'numpy.ndarray'>\n",
      "y_train shape:  (374,)\n",
      "x_test shape:  (94, 16) <class 'numpy.ndarray'>\n",
      "y_test shape:  (94,) <class 'pandas.core.series.Series'>\n",
      "train groups shape:  (374, 2)\n",
      "test groups shape:  (94, 2)\n"
     ]
    }
   ],
   "source": [
    "# print shape of x_train, y_train, x_test, y_test, groups,\n",
    "print(\"x_train shape: \", x_train.shape, type(x_train))\n",
    "print(\"y_train shape: \", y_train.shape)\n",
    "print(\"x_test shape: \", x_test.shape, type(x_test))\n",
    "print(\"y_test shape: \", y_test.shape, type(y_test))\n",
    "print(\"train groups shape: \", train_groups.shape)\n",
    "print(\"test groups shape: \", test_groups.shape)\n"
   ]
  },
  {
   "attachments": {},
   "cell_type": "markdown",
   "metadata": {},
   "source": [
    "Fit PCA components to data"
   ]
  },
  {
   "cell_type": "code",
   "execution_count": null,
   "metadata": {},
   "outputs": [],
   "source": [
    "x_train_pd = pd.DataFrame(x_train, columns=features)\n",
    "x_test_pd = pd.DataFrame(x_test, columns=features)\n",
    "project_and_plot_PCA(x_train_pd, n_components=len(features), size = (25,10),corr_metric='pearson')"
   ]
  },
  {
   "cell_type": "code",
   "execution_count": null,
   "metadata": {},
   "outputs": [],
   "source": [
    "corr_plot(x_train_pd, 'pearson', train_groups, n_components=len(features), fair=False)\n",
    "corr_plot(x_train_pd, 'pearson', train_groups, n_components=len(features), fair=True)"
   ]
  },
  {
   "cell_type": "code",
   "execution_count": null,
   "metadata": {},
   "outputs": [],
   "source": [
    "plot_reconstruction_loss(x_train_pd, x_test_pd, len(features), train_groups, fair=False)"
   ]
  },
  {
   "attachments": {},
   "cell_type": "markdown",
   "metadata": {},
   "source": [
    "Train model on fair PCA data "
   ]
  },
  {
   "cell_type": "code",
   "execution_count": null,
   "metadata": {},
   "outputs": [],
   "source": [
    "eval(x_train_pd, x_test_pd, y_test, y_train, y_test, train_groups)"
   ]
  },
  {
   "attachments": {},
   "cell_type": "markdown",
   "metadata": {},
   "source": [
    "BLACK BOX MODEL"
   ]
  },
  {
   "cell_type": "code",
   "execution_count": null,
   "metadata": {},
   "outputs": [],
   "source": [
    "from sklearn.neural_network import MLPClassifier\n",
    "from sklearn.metrics import classification_report\n",
    "\n",
    "clf = MLPClassifier(hidden_layer_sizes=(100, 100, 100), max_iter=1000, alpha=0.0001)\n",
    "clf.fit(x_train, y_train)\n",
    "y_pred = clf.predict(x_test)\n",
    "\n",
    "print(classification_report(y_test, y_pred))\n"
   ]
  },
  {
   "cell_type": "code",
   "execution_count": 13,
   "metadata": {},
   "outputs": [
    {
     "name": "stdout",
     "output_type": "stream",
     "text": [
      "(94, 16) <class 'numpy.ndarray'>\n",
      "Epoch 1/20, Loss: 0.7169009745121002\n",
      "Epoch 2/20, Loss: 0.5621162429451942\n",
      "Epoch 3/20, Loss: 0.5033130496740341\n",
      "Epoch 4/20, Loss: 0.46469156940778095\n",
      "Epoch 5/20, Loss: 0.4317836215098699\n",
      "Epoch 6/20, Loss: 0.4152882744868596\n",
      "Epoch 7/20, Loss: 0.3872217411796252\n",
      "Epoch 8/20, Loss: 0.3744506165385246\n",
      "Epoch 9/20, Loss: 0.36238061636686325\n",
      "Epoch 10/20, Loss: 0.3480413171152274\n",
      "Epoch 11/20, Loss: 0.33876366664965946\n",
      "Epoch 12/20, Loss: 0.32955915853381157\n",
      "Epoch 13/20, Loss: 0.32017919172843295\n",
      "Epoch 14/20, Loss: 0.3100499324500561\n",
      "Epoch 15/20, Loss: 0.30532995363076526\n",
      "Epoch 16/20, Loss: 0.29629771535595256\n",
      "Epoch 17/20, Loss: 0.28905852138996124\n",
      "Epoch 18/20, Loss: 0.2798691354691982\n",
      "Epoch 19/20, Loss: 0.27373956019679707\n",
      "Epoch 20/20, Loss: 0.2696591665347417\n"
     ]
    },
    {
     "data": {
      "image/png": "[encoded data removed]",
      "text/plain": [
       "<Figure size 640x480 with 1 Axes>"
      ]
     },
     "metadata": {},
     "output_type": "display_data"
    },
    {
     "name": "stdout",
     "output_type": "stream",
     "text": [
      "Test Accuracy: 84.04255319148936%\n"
     ]
    },
    {
     "data": {
      "text/plain": [
       "(SimpleNN(\n",
       "   (fc1): Linear(in_features=16, out_features=128, bias=True)\n",
       "   (relu): ReLU()\n",
       "   (fc2): Linear(in_features=128, out_features=2, bias=True)\n",
       " ),\n",
       " 84.04255319148936)"
      ]
     },
     "execution_count": 13,
     "metadata": {},
     "output_type": "execute_result"
    }
   ],
   "source": [
    "x_train_np = np.array(x_train)\n",
    "y_train_np = np.array(y_train)\n",
    "x_test_np = np.array(x_test)\n",
    "y_test_np = np.array(y_test)\n",
    "\n",
    "train_and_evaluate_nn(x_train_np, x_test_np, y_train_np, y_test_np, plot_loss=True)\n"
   ]
  },
  {
   "cell_type": "code",
   "execution_count": null,
   "metadata": {},
   "outputs": [],
   "source": []
  }
 ],
 "metadata": {
  "kernelspec": {
   "display_name": "base",
   "language": "python",
   "name": "python3"
  },
  "language_info": {
   "codemirror_mode": {
    "name": "ipython",
    "version": 3
   },
   "file_extension": ".py",
   "mimetype": "text/x-python",
   "name": "python",
   "nbconvert_exporter": "python",
   "pygments_lexer": "ipython3",
   "version": "3.8.16"
  },
  "orig_nbformat": 4
 },
 "nbformat": 4,
 "nbformat_minor": 2
}
