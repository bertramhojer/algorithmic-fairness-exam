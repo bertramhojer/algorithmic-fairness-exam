{
 "cells": [
  {
   "cell_type": "code",
   "execution_count": null,
   "metadata": {},
   "outputs": [],
   "source": [
    "import pandas as pd\n",
    "from data_loader import data_loader\n",
    "from model_helper import compute_cost, get_tuned_gamma, train, tune_lambda, plot_lambda_tuning\n",
    "import scipy.optimize as opt\n",
    "import numpy as np\n",
    "from sklearn.preprocessing import StandardScaler\n",
    "from sklearn.model_selection import train_test_split"
   ]
  },
  {
   "cell_type": "code",
   "execution_count": null,
   "metadata": {},
   "outputs": [],
   "source": [
    "df = data_loader(num=1000)"
   ]
  },
  {
   "cell_type": "code",
   "execution_count": null,
   "metadata": {},
   "outputs": [],
   "source": [
    "# filter columns to only include columns in the features list below\n",
    "features = ['loan_amount_000s', 'loan_type', 'owner_occupancy', \n",
    "       'property_type','applicant_income_000s', 'purchaser_type', 'hud_median_family_income',\n",
    "       'tract_to_msamd_income', 'number_of_owner_occupied_units', \n",
    "       'number_of_1_to_4_family_units', 'race_ethnicity', 'state_code', 'county_code',\n",
    "       'applicants_joined_sex',\"minority_population\", 'lien_status']"
   ]
  },
  {
   "cell_type": "code",
   "execution_count": null,
   "metadata": {},
   "outputs": [],
   "source": [
    "def preprocess(df):\n",
    "    df['action_taken'].replace({'Approved': 1, 'Denied': 0}, inplace=True)\n",
    "    # remove rows with \"applicant_sex\" values of 3, 4 or 5\n",
    "    print(df.shape)\n",
    "    df = df[df['applicant_sex'].isin([1, 2])] # men and female\n",
    "    df = df[df['race_ethnicity'].isin([3, 5])] # black and white \n",
    "    df['applicant_sex'].replace({2: 0}, inplace=True) # men 1, women 0 \n",
    "    df['race_ethnicity'].replace({3: 1, 5: 0}, inplace=True) # black 1, white 0\n",
    "    print(df.shape)\n",
    "    x_train, x_test, y_train, y_test = train_test_split(df, df['action_taken'], test_size=0.2, random_state=42)\n",
    "\n",
    "    # convert df['applicant_sex'] and df['race_ethnicity'] to numpy arrays\n",
    "    train_groups = np.column_stack([\n",
    "        x_train['applicant_sex'].to_numpy(),\n",
    "        x_train['race_ethnicity'].to_numpy()\n",
    "    ])\n",
    "    test_groups = np.column_stack([\n",
    "        x_test['applicant_sex'].to_numpy(),\n",
    "        x_test['race_ethnicity'].to_numpy()\n",
    "    ])\n",
    "    # filter columns to only include columns in the features list above\n",
    "    print(x_train.shape)\n",
    "    x_train = x_train[features]\n",
    "    x_test = x_test[features]\n",
    "    print(x_train.shape)\n",
    "\n",
    "    # print shapes\n",
    "    print(\"x_train shape: \", x_train.shape)\n",
    "    print(\"y_train shape: \", x_test.shape)\n",
    "\n",
    "    # Replace nan values with median value for that column \n",
    "    x_train = x_train.fillna(x_train.median())\n",
    "    # drop rows with nan values in the test set\n",
    "    x_test = x_test.fillna(x_train.median())\n",
    "    # print number of nan values in each column\n",
    "    #print(x_train.isna().sum())\n",
    "\n",
    "    #standardize the data\n",
    "    scaler = StandardScaler()\n",
    "    x_train = scaler.fit_transform(x_train)\n",
    "    x_test = scaler.transform(x_test)\n",
    "\n",
    "    return x_train, x_test, y_train, y_test, train_groups, test_groups\n",
    "\n",
    "x_train, x_test, y_train, y_test, train_groups, test_groups = preprocess(df)"
   ]
  },
  {
   "cell_type": "code",
   "execution_count": null,
   "metadata": {},
   "outputs": [],
   "source": [
    "betas = np.random.rand(x_train.shape[1])\n",
    "gammas = np.linspace(0.1, 1, 10)\n",
    "best_gamma = get_tuned_gamma(gammas, x_train, y_train, num_folds=5, verbose=False)"
   ]
  },
  {
   "cell_type": "code",
   "execution_count": null,
   "metadata": {},
   "outputs": [],
   "source": [
    "betas = np.random.rand(x_train.shape[1])\n",
    "_lambda = None \n",
    "fair_loss_ = 'NO l2'\n",
    "\n",
    "unfair_preds = train(x_train, y_train, x_test, y_test, train_groups, fair_loss_, best_gamma, lambda_val=1)  # do use l2 regularization here ergo False\n"
   ]
  },
  {
   "cell_type": "code",
   "execution_count": null,
   "metadata": {},
   "outputs": [],
   "source": [
    "betas = np.random.rand(x_train.shape[1])\n",
    "_lambda = None \n",
    "fair_loss_ = False\n",
    "\n",
    "unfair_preds = train(x_train, y_train, x_test, y_test, train_groups, best_gamma, fair_loss_) "
   ]
  },
  {
   "cell_type": "code",
   "execution_count": null,
   "metadata": {},
   "outputs": [],
   "source": [
    "fair_loss_ = True\n",
    "performance_metrics = tune_lambda(x_train, y_train, test_groups, train_groups, x_test, y_test, fair_loss_, best_gamma)"
   ]
  },
  {
   "cell_type": "code",
   "execution_count": null,
   "metadata": {},
   "outputs": [],
   "source": [
    "betas = np.random.rand(x_train.shape[1])\n",
    "_lambda = None \n",
    "fair_loss_ = True\n",
    "\n",
    "unfair_preds = train(x_train, y_train, x_test, y_test, train_groups, fair_loss_) "
   ]
  },
  {
   "cell_type": "code",
   "execution_count": null,
   "metadata": {},
   "outputs": [],
   "source": [
    "# print shape of x_train, y_train, x_test, y_test, groups,\n",
    "print(\"x_train shape: \", x_train.shape)\n",
    "print(\"y_train shape: \", y_train.shape)\n",
    "print(\"x_test shape: \", x_test.shape)\n",
    "print(\"y_test shape: \", y_test.shape)\n",
    "print(\"groups shape: \", groups.shape)\n"
   ]
  },
  {
   "cell_type": "code",
   "execution_count": null,
   "metadata": {},
   "outputs": [],
   "source": [
    "lambda_vals = [0.001, 0.005, 0.01, 0.05, 0.1, 1]\n",
    "plot_lambda_tuning(performance_metrics, lambda_vals)\n"
   ]
  },
  {
   "cell_type": "code",
   "execution_count": null,
   "metadata": {},
   "outputs": [],
   "source": []
  }
 ],
 "metadata": {
  "kernelspec": {
   "display_name": "base",
   "language": "python",
   "name": "python3"
  },
  "language_info": {
   "codemirror_mode": {
    "name": "ipython",
    "version": 3
   },
   "file_extension": ".py",
   "mimetype": "text/x-python",
   "name": "python",
   "nbconvert_exporter": "python",
   "pygments_lexer": "ipython3",
   "version": "3.8.16"
  },
  "orig_nbformat": 4
 },
 "nbformat": 4,
 "nbformat_minor": 2
}
