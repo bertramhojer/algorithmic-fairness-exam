{
 "cells": [
  {
   "cell_type": "code",
   "execution_count": 1,
   "metadata": {},
   "outputs": [],
   "source": [
    "import pandas as pd\n",
    "from matplotlib import pyplot as plt\n",
    "import seaborn as sns\n",
    "import scipy.stats as stats\n",
    "import numpy as np\n",
    "from scipy.stats import chi2_contingency\n",
    "from statsmodels.stats.proportion import proportions_ztest\n",
    "from data_loader import *\n",
    "\n",
    "import warnings\n",
    "warnings.filterwarnings(\"ignore\")"
   ]
  },
  {
   "cell_type": "code",
   "execution_count": 2,
   "metadata": {},
   "outputs": [
    {
     "name": "stdout",
     "output_type": "stream",
     "text": [
      "Loading data...\n",
      "processed_data.csv exists. Loading data from file.\n"
     ]
    }
   ],
   "source": [
    "data = data_loader(None, num=100000, one_hot=False)"
   ]
  },
  {
   "cell_type": "code",
   "execution_count": 22,
   "metadata": {},
   "outputs": [
    {
     "name": "stdout",
     "output_type": "stream",
     "text": [
      "income_group                  high   low  middle\n",
      "action_taken race_ethnicity                     \n",
      "Approved     1                  77   104     142\n",
      "             2                1356   378     960\n",
      "             3                 556  1027    1356\n",
      "             4                  74    39     100\n",
      "             5               11076  8281   13620\n",
      "             9                 825  1473    1839\n",
      "Denied       1                  19   103      52\n",
      "             2                 199   156     173\n",
      "             3                 204   902     566\n",
      "             4                  11    29      31\n",
      "             5                1567  3142    2553\n",
      "             9                 177   675     450\n",
      "Chi-square test statistic: 3018.9999930900904\n",
      "P-value: 0.0\n"
     ]
    }
   ],
   "source": [
    "# Create a contingency table of loan approval status, race, and income group\n",
    "cont_table = pd.crosstab([data['action_taken'], data['race_ethnicity']],\n",
    "                         data['income_group'])\n",
    "\n",
    "# Print the contingency table\n",
    "print(cont_table)\n",
    "\n",
    "# Perform the chi-square test\n",
    "stat, p_val, dof, exp_val = chi2_contingency(cont_table)\n",
    "print('Chi-square test statistic:', stat)\n",
    "print('P-value:', p_val)"
   ]
  },
  {
   "cell_type": "code",
   "execution_count": 26,
   "metadata": {},
   "outputs": [
    {
     "name": "stdout",
     "output_type": "stream",
     "text": [
      "race_ethnicity    1     2     3    4      5     9\n",
      "action_taken                                     \n",
      "Approved        344  2791  3189  230  34125  4290\n",
      "Denied          184   553  1770   74   7566  1353\n",
      "Chi-square test statistic: 991.6171837624283\n",
      "P-value: 3.9238515855063924e-212\n"
     ]
    }
   ],
   "source": [
    "# Create a contingency table of loan approval status, race\n",
    "cont_table = pd.crosstab(index=data['action_taken'], columns=data['race_ethnicity'])\n",
    "\n",
    "# Print the contingency table\n",
    "print(cont_table)\n",
    "\n",
    "# Perform the chi-square test\n",
    "stat, p_val, dof, exp_val = chi2_contingency(cont_table)\n",
    "print('Chi-square test statistic:', stat)\n",
    "print('P-value:', p_val)"
   ]
  },
  {
   "cell_type": "code",
   "execution_count": null,
   "metadata": {},
   "outputs": [],
   "source": []
  },
  {
   "cell_type": "code",
   "execution_count": 39,
   "metadata": {},
   "outputs": [
    {
     "name": "stdout",
     "output_type": "stream",
     "text": [
      "Race: 5\n",
      "X                 0      1\n",
      "action_taken              \n",
      "Approved      10844  34125\n",
      "Denied         3934   7566\n",
      "Chi-square test statistic: 482.443191385253\n",
      "P-value: 6.282224686108178e-107\n",
      "Race: 3\n",
      "X                 0     1\n",
      "action_taken             \n",
      "Approved      41780  3189\n",
      "Denied         9730  1770\n",
      "Chi-square test statistic: 786.4918421642532\n",
      "P-value: 4.666689928417099e-173\n",
      "Race: 9\n",
      "X                 0     1\n",
      "action_taken             \n",
      "Approved      40679  4290\n",
      "Denied        10147  1353\n",
      "Chi-square test statistic: 50.1733836377377\n",
      "P-value: 1.40743934990406e-12\n",
      "Race: 2\n",
      "X                 0     1\n",
      "action_taken             \n",
      "Approved      42178  2791\n",
      "Denied        10947   553\n",
      "Chi-square test statistic: 31.867506757186547\n",
      "P-value: 1.6505528737502257e-08\n",
      "Race: 1\n",
      "X                 0    1\n",
      "action_taken            \n",
      "Approved      44625  344\n",
      "Denied        11316  184\n",
      "Chi-square test statistic: 68.03962550722375\n",
      "P-value: 1.6024271367092667e-16\n",
      "Race: 4\n",
      "X                 0    1\n",
      "action_taken            \n",
      "Approved      44739  230\n",
      "Denied        11426   74\n",
      "Chi-square test statistic: 2.7393098444235857\n",
      "P-value: 0.09790704347050389\n"
     ]
    }
   ],
   "source": [
    "races = data.race_ethnicity.unique()\n",
    "\n",
    "for race in races:\n",
    "\n",
    "    print(f\"Race: {race}\")\n",
    "\n",
    "    df = data.copy()\n",
    "    df['X'] = [1 if r==race else 0 for r in data.race_ethnicity]\n",
    "\n",
    "    cont_table = pd.crosstab(index=df['action_taken'], columns=df['X'])\n",
    "    # Print the contingency table\n",
    "    print(cont_table)\n",
    "\n",
    "    # Perform the chi-square test\n",
    "    stat, p_val, dof, exp_val = chi2_contingency(cont_table)\n",
    "    print('Chi-square test statistic:', stat)\n",
    "    print('P-value:', p_val)"
   ]
  },
  {
   "cell_type": "code",
   "execution_count": 37,
   "metadata": {},
   "outputs": [
    {
     "data": {
      "text/plain": [
       "0    56165\n",
       "1      304\n",
       "Name: X, dtype: int64"
      ]
     },
     "execution_count": 37,
     "metadata": {},
     "output_type": "execute_result"
    }
   ],
   "source": [
    "df.X.value_counts()"
   ]
  },
  {
   "cell_type": "code",
   "execution_count": null,
   "metadata": {},
   "outputs": [],
   "source": []
  }
 ],
 "metadata": {
  "kernelspec": {
   "display_name": "alfae",
   "language": "python",
   "name": "python3"
  },
  "language_info": {
   "codemirror_mode": {
    "name": "ipython",
    "version": 3
   },
   "file_extension": ".py",
   "mimetype": "text/x-python",
   "name": "python",
   "nbconvert_exporter": "python",
   "pygments_lexer": "ipython3",
   "version": "3.10.0"
  },
  "orig_nbformat": 4
 },
 "nbformat": 4,
 "nbformat_minor": 2
}
