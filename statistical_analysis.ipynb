{
 "cells": [
  {
   "cell_type": "code",
   "execution_count": 67,
   "metadata": {},
   "outputs": [],
   "source": [
    "import pandas as pd\n",
    "from matplotlib import pyplot as plt\n",
    "import seaborn as sns\n",
    "import scipy.stats as stats\n",
    "import numpy as np\n",
    "from scipy.stats import chi2_contingency\n",
    "from data_loader import data_loader\n",
    "\n",
    "import warnings\n",
    "warnings.filterwarnings(\"ignore\")"
   ]
  },
  {
   "cell_type": "code",
   "execution_count": 36,
   "metadata": {},
   "outputs": [],
   "source": [
    "data = data_loader()"
   ]
  },
  {
   "cell_type": "code",
   "execution_count": 40,
   "metadata": {},
   "outputs": [],
   "source": [
    "def normality_test(group1, group2):\n",
    "\n",
    "    \"\"\"\n",
    "    This function takes in two groups and returns the shapiro and levene test results\n",
    "    The shapiro test is used to test for normality (null hypothesis: data is normally distributed)\n",
    "    The levene test is used to test for homogeneity of variance (null hypothesis: variances are equal)\n",
    "\n",
    "    If the data is normally distributed we should see p-values above 0.05\n",
    "    \"\"\"\n",
    "\n",
    "    mask1, mask2 =  ~np.isnan(group1), ~np.isnan(group2)\n",
    "    group1_clean, group2_clean = group1[mask1], group2[mask2]\n",
    "\n",
    "    shapiro_1, shap_p_1 = stats.shapiro(group1)\n",
    "    shapiro_2, shap_p_2 = stats.shapiro(group2)\n",
    "\n",
    "    levene_1, levene_p_1 = stats.levene(group1_clean, group2_clean)\n",
    "    levene_2, levene_p_2 = stats.levene(group1_clean, group2_clean)\n",
    "\n",
    "    print(f\"Group 1 (shapiro p-value): {shap_p_1}\")\n",
    "    print(f\"Group 2 (shapiro p-value): {shap_p_2}\")\n",
    "\n",
    "    print(f\"Group 1 (levene p-value): {levene_p_1}\")\n",
    "    print(f\"Group 2 (levene p-value): {levene_p_2}\")\n"
   ]
  },
  {
   "cell_type": "code",
   "execution_count": 64,
   "metadata": {},
   "outputs": [],
   "source": [
    "def statistical_test(group1, group2, normality=True):\n",
    "\n",
    "    \"\"\"\n",
    "    This function takes in two groups and returns the t-test or mannwhitneyu test results\n",
    "    The t-test is used to test for normality (null hypothesis: data is normally distributed)\n",
    "    The mannwhitneyu test is used to test for homogeneity of variance (null hypothesis: variances are equal)\n",
    "    \"\"\"\n",
    "\n",
    "    mask1, mask2 =  ~np.isnan(group1), ~np.isnan(group2)\n",
    "    group1_clean, group2_clean = group1[mask1], group2[mask2]\n",
    "\n",
    "    if normality:\n",
    "\n",
    "        t_stat, p_val = stats.ttest_ind(group1_clean, group2_clean)\n",
    "        print(f\"t-statistic: {t_stat}\")\n",
    "        print(f\"p-value (t-test): {p_val}\")\n",
    "\n",
    "    else:\n",
    "\n",
    "        u_stat, p_val = stats.mannwhitneyu(group1_clean, group2_clean)\n",
    "        print(f\"u-statistic: {u_stat}\")\n",
    "        print(f\"p-value (mannwhitneyu): {p_val}\")"
   ]
  },
  {
   "cell_type": "code",
   "execution_count": 65,
   "metadata": {},
   "outputs": [
    {
     "name": "stdout",
     "output_type": "stream",
     "text": [
      "Group 1 (shapiro p-value): 1.0\n",
      "Group 2 (shapiro p-value): 1.0\n",
      "Group 1 (levene p-value): 0.2184017198539339\n",
      "Group 2 (levene p-value): 0.2184017198539339\n",
      "t-statistic: 1.6525441831389538\n",
      "p-value (t-test): 0.09846373881805694\n"
     ]
    }
   ],
   "source": [
    "male_income = data[data.applicant_sex == 1]['applicant_income_000s']\n",
    "female_income = data[data.applicant_sex == 2]['applicant_income_000s']\n",
    "\n",
    "normality_test(male_income, female_income)\n",
    "statistical_test(male_income, female_income, normality=True)"
   ]
  },
  {
   "cell_type": "code",
   "execution_count": 66,
   "metadata": {},
   "outputs": [
    {
     "name": "stdout",
     "output_type": "stream",
     "text": [
      "Group 1 (shapiro p-value): 1.0\n",
      "Group 2 (shapiro p-value): 1.0\n",
      "Group 1 (levene p-value): 3.9273910348713235e-06\n",
      "Group 2 (levene p-value): 3.9273910348713235e-06\n",
      "u-statistic: 2784332.5\n",
      "p-value (mannwhitneyu): 1.3126951013388942e-30\n"
     ]
    }
   ],
   "source": [
    "male_income = data[data.applicant_co_applicant_sex == '1_5']['applicant_income_000s']\n",
    "female_income = data[data.applicant_co_applicant_sex == '2_5']['applicant_income_000s']\n",
    "\n",
    "normality_test(male_income, female_income)\n",
    "statistical_test(male_income, female_income, normality=False)"
   ]
  },
  {
   "cell_type": "code",
   "execution_count": 69,
   "metadata": {},
   "outputs": [
    {
     "name": "stdout",
     "output_type": "stream",
     "text": [
      "Chi-squared statistic: 0.0\n",
      "p-value: 1.0\n",
      "Degrees of freedom: 0\n",
      "Expected frequencies:\n",
      " [[5594.]\n",
      " [2601.]\n",
      " [ 711.]\n",
      " [1094.]]\n"
     ]
    }
   ],
   "source": [
    "loan_outcomes = ['Loan originated', 'Application denied by financial institution', 'Application approved but not accepted']\n",
    "cont_table = pd.crosstab(data['applicant_sex'], data['action_taken'].isin(loan_outcomes))\n",
    "\n",
    "# Perform a chi-squared test of independence\n",
    "chi2_stat, p_val, dof, expected = chi2_contingency(cont_table)\n",
    "\n",
    "# Print the test results\n",
    "print(\"Chi-squared statistic:\", chi2_stat)\n",
    "print(\"p-value:\", p_val)\n",
    "print(\"Degrees of freedom:\", dof)\n",
    "print(\"Expected frequencies:\\n\", expected)"
   ]
  },
  {
   "cell_type": "code",
   "execution_count": 74,
   "metadata": {},
   "outputs": [
    {
     "name": "stdout",
     "output_type": "stream",
     "text": [
      "action_taken   False\n",
      "applicant_sex       \n",
      "1               5594\n",
      "2               2601\n",
      "3                711\n",
      "4               1094\n"
     ]
    }
   ],
   "source": [
    "print(cont_table)"
   ]
  },
  {
   "cell_type": "code",
   "execution_count": null,
   "metadata": {},
   "outputs": [],
   "source": []
  }
 ],
 "metadata": {
  "kernelspec": {
   "display_name": "alfae",
   "language": "python",
   "name": "python3"
  },
  "language_info": {
   "codemirror_mode": {
    "name": "ipython",
    "version": 3
   },
   "file_extension": ".py",
   "mimetype": "text/x-python",
   "name": "python",
   "nbconvert_exporter": "python",
   "pygments_lexer": "ipython3",
   "version": "3.10.0"
  },
  "orig_nbformat": 4
 },
 "nbformat": 4,
 "nbformat_minor": 2
}
